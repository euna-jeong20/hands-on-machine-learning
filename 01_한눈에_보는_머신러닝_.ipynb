{
  "nbformat": 4,
  "nbformat_minor": 0,
  "metadata": {
    "colab": {
      "name": "01_한눈에 보는 머신러닝 .ipynb",
      "provenance": [],
      "collapsed_sections": [],
      "mount_file_id": "1QdMkrE44sV6ugIzRGRPdFElIpnHLNJ_9",
      "authorship_tag": "ABX9TyNE/judMAHxjHga7RKc7Z9M",
      "include_colab_link": true
    },
    "kernelspec": {
      "name": "python3",
      "display_name": "Python 3"
    },
    "language_info": {
      "name": "python"
    }
  },
  "cells": [
    {
      "cell_type": "markdown",
      "metadata": {
        "id": "view-in-github",
        "colab_type": "text"
      },
      "source": [
        "<a href=\"https://colab.research.google.com/github/euna-jeong20/hands-on-machine-learning/blob/main/01_%ED%95%9C%EB%88%88%EC%97%90_%EB%B3%B4%EB%8A%94_%EB%A8%B8%EC%8B%A0%EB%9F%AC%EB%8B%9D_.ipynb\" target=\"_parent\"><img src=\"https://colab.research.google.com/assets/colab-badge.svg\" alt=\"Open In Colab\"/></a>"
      ]
    },
    {
      "cell_type": "code",
      "metadata": {
        "id": "VdiaPJR0Dk2W"
      },
      "source": [
        "import sys\n",
        "assert sys.version_info >= (3, 5)"
      ],
      "execution_count": 1,
      "outputs": []
    },
    {
      "cell_type": "code",
      "metadata": {
        "id": "d3NwkzElEAG-"
      },
      "source": [
        "import sklearn\n",
        "assert sklearn.__version__ >= \"0.20\""
      ],
      "execution_count": 2,
      "outputs": []
    },
    {
      "cell_type": "code",
      "metadata": {
        "id": "lNEQkFGyECtg"
      },
      "source": [
        "def prepare_country_stats(oecd_bli, gdp_per_captita):       #oecd_bli과 gdp_per_capita 데이터 합침\n",
        "                                                            #oecd_bli는 oecd가 측정한 Better Life Index(더나은 삶 지수)\n",
        "    oecd_bli = oecd_bli[oecd_bli['INEQUALITY'] == 'TOT']\n",
        "    oecd_bli = oecd_bli.pivot(index='Country', columns='Indicator', values='Value')     #pivot은 데이터 프레임을 재구조화 하는 함수\n",
        "\n",
        "    gdp_per_captita.rename(columns={'2015': 'GDP per capita'}, inplace=True)\n",
        "    gdp_per_captita.set_index('Country', inplace=True)\n",
        "\n",
        "    # 두 데이터의 인덱스를 Country로 맞췄기 때문에 합칠 수 있다.\n",
        "    full_country_stats = pd.merge(left=oecd_bli, right = gdp_per_capita,\n",
        "                                  left_index=True, right_index=True)\n",
        "                                    #left_index=True : 왼쪽 DataFrame index로 Join할 경우 True\n",
        "    full_country_stats.sort_values(by='GDP per capita', inplace=True)\n",
        "\n",
        "    #대표성이 없는 데이터 제거(예를 들어 gdp는 낮지만 행복도가 낮은 나라)\n",
        "    remove_indices = [0, 1, 6, 8, 33, 34, 35]\n",
        "    keep_indices = list(set(range(36)) - set(remove_indices))\n",
        "\n",
        "    return full_country_stats[['GDP per capita', 'Life satisfaction']].iloc[keep_indices]"
      ],
      "execution_count": 21,
      "outputs": []
    },
    {
      "cell_type": "markdown",
      "metadata": {
        "id": "EQJj98rMMvD4"
      },
      "source": [
        "* datasets/lifesat 안에서 파일을 읽기"
      ]
    },
    {
      "cell_type": "code",
      "metadata": {
        "id": "bcAKtas3GLFk"
      },
      "source": [
        "import os\n",
        "datapath = os.path.join('datasets', 'lifesat', '')"
      ],
      "execution_count": 4,
      "outputs": []
    },
    {
      "cell_type": "code",
      "metadata": {
        "id": "oaQsg5JKNCIu"
      },
      "source": [
        "# 주피터에 그래프를 깔끔하게 그리기 위해서\n",
        "%matplotlib inline\n",
        "# 매직커멘드         \n",
        "import matplotlib as mpl\n",
        "mpl.rc('axes', labelsize=14)\n",
        "mpl.rc('xtick', labelsize=12)\n",
        "mpl.rc('ytick', labelsize=12)"
      ],
      "execution_count": 5,
      "outputs": []
    },
    {
      "cell_type": "code",
      "metadata": {
        "id": "0meEL9lkNGNj",
        "colab": {
          "base_uri": "https://localhost:8080/"
        },
        "outputId": "f9bcc9ee-ea5d-45b8-c64b-430655ce6449"
      },
      "source": [
        "# 데이터 다운로드\n",
        "import urllib.request\n",
        "DOWNLOAD_ROOT = \"https://raw.githubusercontent.com/rickiepark/handson-ml2/master/\"\n",
        "os.makedirs(datapath, exist_ok=True)\n",
        "\n",
        "for filename in (\"oecd_bli_2015.csv\", \"gdp_per_capita.csv\"):    # csv는 데이터 모아 놓은 것 대부분 엑셀 형식\n",
        "    print(\"Downloading\", filename)                              # 폴더를 만들어서 데이터를 저장한다\n",
        "    url = DOWNLOAD_ROOT + \"datasets/lifesat/\" + filename\n",
        "    urllib.request.urlretrieve(url, datapath + filename)"
      ],
      "execution_count": 6,
      "outputs": [
        {
          "output_type": "stream",
          "text": [
            "Downloading oecd_bli_2015.csv\n",
            "Downloading gdp_per_capita.csv\n"
          ],
          "name": "stdout"
        }
      ]
    },
    {
      "cell_type": "code",
      "metadata": {
        "colab": {
          "base_uri": "https://localhost:8080/",
          "height": 304
        },
        "id": "Mz0rbcbuNoMx",
        "outputId": "aa882bd0-b227-49f5-8a93-6e3828e9557a"
      },
      "source": [
        "import matplotlib.pyplot as plt\n",
        "import numpy as np\n",
        "import pandas as pd\n",
        "import sklearn.linear_model\n",
        "\n",
        "#다운 받은 데이터를 판다스 형태로\n",
        "oecd_bli = pd.read_csv(datapath + \"oecd_bli_2015.csv\", thousands=',')\n",
        "gdp_per_capita = pd.read_csv(datapath + \"gdp_per_capita.csv\",thousands=',',delimiter='\\t',\n",
        "                             encoding='latin1', na_values=\"n/a\")\n",
        "\n",
        "# 데이터 준비\n",
        "country_stats = prepare_country_stats(oecd_bli, gdp_per_capita)     #위에서 만든 함수로 두 프레임 수정후 합치기\n",
        "X = np.c_[country_stats[\"GDP per capita\"]]\n",
        "#두 개의 1차원 배열을 칼럼으로 세로로 붙여서 2차원 배열 만들기\n",
        "# [1, 2, 3], [4, 5, 6] ----> [ [1, 4], [2, 5], [3, 6] ]\n",
        "#지금의 식은 1차원 배열을 하나만 넣었기 때문에\n",
        "# [1, 2, 3] ----> [ [1], [2], [3] ]\n",
        "#사이킷런에 2차원 배열을 넣어야 해서(2장에서 더 설명)\n",
        "#country_stats[\"GDP per capita\"].to_numpy().reshape(-1,1)\n",
        "#reshape(-1,1)은 열은 1로 고정이고 원래 원소수에 따라 행의 수가 정해짐\n",
        "y = np.c_[country_stats[\"Life satisfaction\"]]\n",
        "\n",
        "# 데이터 시각화 / 산점도\n",
        "country_stats.plot(kind='scatter', x='GDP per capita', y = 'Life satisfaction')\n",
        "plt.show()\n",
        "\n",
        "#선형 모델 선택\n",
        "model = sklearn.linear_model.LinearRegression() #선형회귀모델\n",
        "\n",
        "#훈련\n",
        "model.fit(X, y)\n",
        "\n",
        "# 키프로스(나라)에 대한 예측\n",
        "X_new = [[22587]]   #키프로스 1인당 GDP / 리스트의 리스트지만 사이킷런이 자동으로 2차원 넘파이배열로 바꿈\n",
        "print(model.predict(X_new))     #출력 [[ 5.96242338]]"
      ],
      "execution_count": 22,
      "outputs": [
        {
          "output_type": "display_data",
          "data": {
            "image/png": "[encoded data removed]",
            "text/plain": [
              "<Figure size 432x288 with 1 Axes>"
            ]
          },
          "metadata": {
            "tags": [],
            "needs_background": "light"
          }
        },
        {
          "output_type": "stream",
          "text": [
            "[[5.96242338]]\n"
          ],
          "name": "stdout"
        }
      ]
    },
    {
      "cell_type": "code",
      "metadata": {
        "colab": {
          "base_uri": "https://localhost:8080/",
          "height": 268
        },
        "id": "mAACWQGZN--f",
        "outputId": "f16049d4-37a0-433e-e8f9-cf1d22b56575"
      },
      "source": [
        "plt.scatter(X, y)\n",
        "plt.scatter(22587, 5.96)      #키프로스 1인당 GDP와 예측한 삶의 만족도\n",
        "plt.show()"
      ],
      "execution_count": 23,
      "outputs": [
        {
          "output_type": "display_data",
          "data": {
            "image/png": "[encoded data removed]",
            "text/plain": [
              "<Figure size 432x288 with 1 Axes>"
            ]
          },
          "metadata": {
            "tags": [],
            "needs_background": "light"
          }
        }
      ]
    },
    {
      "cell_type": "code",
      "metadata": {
        "colab": {
          "base_uri": "https://localhost:8080/"
        },
        "id": "VU8aSaGsQfPW",
        "outputId": "5687ca77-18e7-4266-929e-25ea2ba52114"
      },
      "source": [
        "X_korea = [[31846.22]]      #한국의 바뀐 1인당 GDP\n",
        "model.predict(X_korea)"
      ],
      "execution_count": 24,
      "outputs": [
        {
          "output_type": "execute_result",
          "data": {
            "text/plain": [
              "array([[6.4171941]])"
            ]
          },
          "metadata": {
            "tags": []
          },
          "execution_count": 24
        }
      ]
    },
    {
      "cell_type": "code",
      "metadata": {
        "colab": {
          "base_uri": "https://localhost:8080/",
          "height": 268
        },
        "id": "oCLwEF9wQh_b",
        "outputId": "3207d017-7799-487d-eda0-a5517adbbee0"
      },
      "source": [
        "plt.scatter(X, y)\n",
        "plt.scatter(31846.22, 6.433)    #한국의 1인당 GDP와 예측한 삶의 만족도\n",
        "plt.show()"
      ],
      "execution_count": 25,
      "outputs": [
        {
          "output_type": "display_data",
          "data": {
            "image/png": "[encoded data removed]",
            "text/plain": [
              "<Figure size 432x288 with 1 Axes>"
            ]
          },
          "metadata": {
            "tags": [],
            "needs_background": "light"
          }
        }
      ]
    },
    {
      "cell_type": "code",
      "metadata": {
        "colab": {
          "base_uri": "https://localhost:8080/"
        },
        "id": "IZvPTvAgQkEe",
        "outputId": "43a2244c-9ccf-4f2e-f5fe-2de0aee608f4"
      },
      "source": [
        "country_stats[\"GDP per capita\"]"
      ],
      "execution_count": 26,
      "outputs": [
        {
          "output_type": "execute_result",
          "data": {
            "text/plain": [
              "Country\n",
              "Russia              9054.914\n",
              "Turkey              9437.372\n",
              "Hungary            12239.894\n",
              "Poland             12495.334\n",
              "Slovak Republic    15991.736\n",
              "Estonia            17288.083\n",
              "Greece             18064.288\n",
              "Portugal           19121.592\n",
              "Slovenia           20732.482\n",
              "Spain              25864.721\n",
              "Korea              27195.197\n",
              "Italy              29866.581\n",
              "Japan              32485.545\n",
              "Israel             35343.336\n",
              "New Zealand        37044.891\n",
              "France             37675.006\n",
              "Belgium            40106.632\n",
              "Germany            40996.511\n",
              "Finland            41973.988\n",
              "Canada             43331.961\n",
              "Netherlands        43603.115\n",
              "Austria            43724.031\n",
              "United Kingdom     43770.688\n",
              "Sweden             49866.266\n",
              "Iceland            50854.583\n",
              "Australia          50961.865\n",
              "Ireland            51350.744\n",
              "Denmark            52114.165\n",
              "United States      55805.204\n",
              "Name: GDP per capita, dtype: float64"
            ]
          },
          "metadata": {
            "tags": []
          },
          "execution_count": 26
        }
      ]
    },
    {
      "cell_type": "code",
      "metadata": {
        "colab": {
          "base_uri": "https://localhost:8080/"
        },
        "id": "2VN5UBQ2Qu0w",
        "outputId": "9fb20fad-f6b1-4a25-ef52-20ae8b97080a"
      },
      "source": [
        "np.c_[country_stats[\"GDP per capita\"]]"
      ],
      "execution_count": 27,
      "outputs": [
        {
          "output_type": "execute_result",
          "data": {
            "text/plain": [
              "array([[ 9054.914],\n",
              "       [ 9437.372],\n",
              "       [12239.894],\n",
              "       [12495.334],\n",
              "       [15991.736],\n",
              "       [17288.083],\n",
              "       [18064.288],\n",
              "       [19121.592],\n",
              "       [20732.482],\n",
              "       [25864.721],\n",
              "       [27195.197],\n",
              "       [29866.581],\n",
              "       [32485.545],\n",
              "       [35343.336],\n",
              "       [37044.891],\n",
              "       [37675.006],\n",
              "       [40106.632],\n",
              "       [40996.511],\n",
              "       [41973.988],\n",
              "       [43331.961],\n",
              "       [43603.115],\n",
              "       [43724.031],\n",
              "       [43770.688],\n",
              "       [49866.266],\n",
              "       [50854.583],\n",
              "       [50961.865],\n",
              "       [51350.744],\n",
              "       [52114.165],\n",
              "       [55805.204]])"
            ]
          },
          "metadata": {
            "tags": []
          },
          "execution_count": 27
        }
      ]
    },
    {
      "cell_type": "code",
      "metadata": {
        "colab": {
          "base_uri": "https://localhost:8080/"
        },
        "id": "76zBYLaWTD28",
        "outputId": "6e8ab377-9d2a-443a-8c83-5f237a7d4e08"
      },
      "source": [
        "#k-최근접 이웃 회귀 모델사용\n",
        "import sklearn.neighbors\n",
        "\n",
        "model = sklearn.neighbors.KNeighborsRegressor(n_neighbors=3)\n",
        "model.fit(X, y)\n",
        "\n",
        "X_new = np.array([[22587.0]])  # 키프로스의 1인당 GDP\n",
        "print(model.predict(X_new))"
      ],
      "execution_count": 33,
      "outputs": [
        {
          "output_type": "stream",
          "text": [
            "[[5.76666667]]\n"
          ],
          "name": "stdout"
        }
      ]
    },
    {
      "cell_type": "markdown",
      "metadata": {
        "id": "4BvF4_RwRRvD"
      },
      "source": [
        "1장 그림코드는 생략"
      ]
    }
  ]
}